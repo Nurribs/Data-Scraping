{
 "cells": [
  {
   "cell_type": "code",
   "execution_count": 3,
   "id": "9ac0165b",
   "metadata": {},
   "outputs": [],
   "source": [
    "import pandas as pd\n",
    "import numpy as np\n",
    "\n",
    "import re\n",
    "\n",
    "import sys\n",
    "#Görselleştirme\n",
    "import seaborn as sns\n",
    "import matplotlib.pyplot as plt\n",
    "%matplotlib inline\n",
    "\n",
    "# import warnings\n",
    "# warnings.filterwarnings('ignore')\n",
    "\n",
    "from sklearn.preprocessing import LabelEncoder"
   ]
  },
  {
   "cell_type": "code",
   "execution_count": 4,
   "id": "32cd430c",
   "metadata": {},
   "outputs": [],
   "source": [
    "first_data_path =\"../Web Scraping/home_data.xlsx\"\n",
    "last_data_path=\"preprocessing_data.xlsx\"\n",
    "\n",
    "df=pd.read_excel(first_data_path)  #preprocessing yapılmamış verilerin okunması\n"
   ]
  },
  {
   "cell_type": "code",
   "execution_count": 5,
   "id": "87e97f5e",
   "metadata": {},
   "outputs": [],
   "source": [
    "#bazı kelime ve noktalama işaretleriden arındırma\n",
    "df = df.drop_duplicates()\n",
    "df['Ev Türü'] = df['Ev Türü'].str.replace('home', '', regex=True)\n",
    "df['Oda Sayısı'] = df['Oda Sayısı'].str.replace('weekend', '', regex=True)\n",
    "df['Kat'] = df['Kat'].str.replace('layers', '', regex=True)\n",
    "df['Metrekare'] = df['Metrekare'].str.replace('texture', '', regex=True)\n",
    "df['Metrekare'] = df['Metrekare'].str.replace('m2', '', regex=True)\n",
    "df['Fiyat'] = df['Fiyat'].str.replace('TL', '', regex=True)\n",
    "df['Fiyat'] = df['Fiyat'].str.replace('.', '', regex=True)\n",
    "df['Fiyat'] = df['Fiyat'].str.replace('GBP', '', regex=True)\n",
    "\n",
    "df['Konum'] = df['Konum'].apply(lambda x: x.split('-')[0].strip()) #- iconunu gördüğünde alt satıra alıp orayı kaldır\n",
    "\n",
    "# '+' işaretinden ayırıp, sayıları topla ve yeni sütun oluştur\n",
    "def calculate_room_count(text):\n",
    "    try:\n",
    "        return sum(map(int, text.split('+')))\n",
    "    except ValueError:\n",
    "        return np.nan  # Hata durumunda NaN (null) değeri döndür\n",
    "\n",
    "df['Oda Sayısı'] = df['Oda Sayısı'].apply(calculate_room_count)\n",
    "\n",
    "df.drop(columns=['Başlık'], inplace=True)\n",
    "df.drop(columns=['Ev Türü'], inplace=True)"
   ]
  },
  {
   "cell_type": "code",
   "execution_count": 7,
   "id": "5d58082f",
   "metadata": {},
   "outputs": [],
   "source": [
    "#dosyadaki yabancı karakterleri temizle\n",
    "def temizle(text):\n",
    "    emoji_pattern = re.compile(\"[\"\n",
    "                               u\"\\U0001F600-\\U0001F64F\"  # Emoticons\n",
    "                              u\"\\U0001F300-\\U0001F5FF\"  # Simge ve semboller\n",
    "                               u\"\\U0001F680-\\U0001F6FF\"  # Transport ve simgeler\n",
    "                               u\"\\U0001F1E0-\\U0001F1FF\"  # Bayraklar (iOS)\n",
    "                               u\"\\U00002702-\\U000027B0\"\n",
    "                               u\"\\U000024C2-\\U0001F251\"\n",
    "                               \"]+\", flags=re.UNICODE)\n",
    "    return emoji_pattern.sub(r'', text)\n",
    "\n",
    "# Verilerdeki emoji karakterlerini temizleme\n",
    "df['Oda Sayısı'] = df['Oda Sayısı'].apply(lambda x: temizle(x) if isinstance(x, str) else x)\n",
    "df['Kat'] = df['Kat'].apply(lambda x: temizle(x) if isinstance(x, str) else x)\n",
    "df['Metrekare'] = df['Metrekare'].apply(lambda x: temizle(x) if isinstance(x, str) else x)\n",
    "df['Fiyat'] = df['Fiyat'].apply(lambda x: temizle(x) if isinstance(x, str) else x)\n"
   ]
  },
  {
   "cell_type": "code",
   "execution_count": 16,
   "id": "003e7cb3",
   "metadata": {},
   "outputs": [],
   "source": [
    "df.dropna(axis=0, inplace=True)"
   ]
  },
  {
   "cell_type": "code",
   "execution_count": 17,
   "id": "5d09fceb",
   "metadata": {},
   "outputs": [],
   "source": [
    "df.to_excel(last_data_path, index=False)"
   ]
  },
  {
   "cell_type": "code",
   "execution_count": 18,
   "id": "b0ea0d43",
   "metadata": {},
   "outputs": [],
   "source": [
    "df=pd.read_excel(\"preprocessing_data.xlsx\")"
   ]
  },
  {
   "cell_type": "code",
   "execution_count": 19,
   "id": "c18a670b",
   "metadata": {},
   "outputs": [],
   "source": [
    "#encode etme işlemleri\n",
    "label_encoder=LabelEncoder() #labelencoder objesi oluşturuldu\n",
    "df[\"Konum\"]=label_encoder.fit_transform(df[\"Konum\"])  #konum sütunu encode edildi\n",
    "df[\"Kat\"]=label_encoder.fit_transform(df[\"Kat\"])  #kat sütunu encode edildi\n",
    "\n",
    "result_df=df[['Oda Sayısı','Kat','Metrekare','Fiyat','Konum']]\n",
    "\n",
    "result_df.to_excel(\"encoded_data.xlsx\", index= False)\n",
    "\n",
    "result_df = result_df.drop_duplicates()\n",
    "result_df.to_excel(\"encoded_data.xlsx\", index= False)"
   ]
  },
  {
   "cell_type": "code",
   "execution_count": 21,
   "id": "b5732331",
   "metadata": {},
   "outputs": [
    {
     "data": {
      "text/html": [
       "<div>\n",
       "<style scoped>\n",
       "    .dataframe tbody tr th:only-of-type {\n",
       "        vertical-align: middle;\n",
       "    }\n",
       "\n",
       "    .dataframe tbody tr th {\n",
       "        vertical-align: top;\n",
       "    }\n",
       "\n",
       "    .dataframe thead th {\n",
       "        text-align: right;\n",
       "    }\n",
       "</style>\n",
       "<table border=\"1\" class=\"dataframe\">\n",
       "  <thead>\n",
       "    <tr style=\"text-align: right;\">\n",
       "      <th></th>\n",
       "      <th>Oda Sayısı</th>\n",
       "      <th>Kat</th>\n",
       "      <th>Metrekare</th>\n",
       "      <th>Fiyat</th>\n",
       "      <th>Konum</th>\n",
       "    </tr>\n",
       "  </thead>\n",
       "  <tbody>\n",
       "    <tr>\n",
       "      <th>0</th>\n",
       "      <td>5</td>\n",
       "      <td>6</td>\n",
       "      <td>220</td>\n",
       "      <td>3750000</td>\n",
       "      <td>13</td>\n",
       "    </tr>\n",
       "    <tr>\n",
       "      <th>1</th>\n",
       "      <td>4</td>\n",
       "      <td>9</td>\n",
       "      <td>145</td>\n",
       "      <td>4450000</td>\n",
       "      <td>14</td>\n",
       "    </tr>\n",
       "    <tr>\n",
       "      <th>2</th>\n",
       "      <td>4</td>\n",
       "      <td>9</td>\n",
       "      <td>231</td>\n",
       "      <td>7500000</td>\n",
       "      <td>1</td>\n",
       "    </tr>\n",
       "    <tr>\n",
       "      <th>3</th>\n",
       "      <td>5</td>\n",
       "      <td>9</td>\n",
       "      <td>145</td>\n",
       "      <td>4100000</td>\n",
       "      <td>14</td>\n",
       "    </tr>\n",
       "    <tr>\n",
       "      <th>4</th>\n",
       "      <td>6</td>\n",
       "      <td>9</td>\n",
       "      <td>200</td>\n",
       "      <td>8750000</td>\n",
       "      <td>2</td>\n",
       "    </tr>\n",
       "  </tbody>\n",
       "</table>\n",
       "</div>"
      ],
      "text/plain": [
       "   Oda Sayısı  Kat  Metrekare    Fiyat  Konum\n",
       "0           5    6        220  3750000     13\n",
       "1           4    9        145  4450000     14\n",
       "2           4    9        231  7500000      1\n",
       "3           5    9        145  4100000     14\n",
       "4           6    9        200  8750000      2"
      ]
     },
     "execution_count": 21,
     "metadata": {},
     "output_type": "execute_result"
    }
   ],
   "source": [
    "result_df.head()"
   ]
  },
  {
   "cell_type": "code",
   "execution_count": 23,
   "id": "8cccf0cf",
   "metadata": {},
   "outputs": [
    {
     "name": "stdout",
     "output_type": "stream",
     "text": [
      "<class 'pandas.core.frame.DataFrame'>\n",
      "Int64Index: 57 entries, 0 to 56\n",
      "Data columns (total 5 columns):\n",
      " #   Column      Non-Null Count  Dtype\n",
      "---  ------      --------------  -----\n",
      " 0   Oda Sayısı  57 non-null     int64\n",
      " 1   Kat         57 non-null     int32\n",
      " 2   Metrekare   57 non-null     int64\n",
      " 3   Fiyat       57 non-null     int64\n",
      " 4   Konum       57 non-null     int32\n",
      "dtypes: int32(2), int64(3)\n",
      "memory usage: 2.2 KB\n"
     ]
    }
   ],
   "source": [
    "result_df.info()  # Veri İle İlgili kısa bilgiler : veri türü, boş alan var yok "
   ]
  },
  {
   "cell_type": "code",
   "execution_count": 24,
   "id": "97c1be13",
   "metadata": {},
   "outputs": [],
   "source": [
    "# Gerekli Kütüphaneleri Yükleyelim\n",
    "\n",
    "from sklearn.model_selection import learning_curve, RandomizedSearchCV, GridSearchCV\n",
    "from sklearn.feature_selection import SelectKBest, f_classif, chi2\n",
    "from sklearn.preprocessing import MinMaxScaler, StandardScaler\n",
    "from sklearn.metrics import r2_score, mean_squared_error, mean_absolute_error"
   ]
  },
  {
   "cell_type": "code",
   "execution_count": 10,
   "id": "ee83b8f2",
   "metadata": {},
   "outputs": [],
   "source": [
    "from sklearn.model_selection import train_test_split\n",
    "# Öncelikle, bağımsız değişkenlerin (X) ve bağımlı değişkenin (y) seçilmesi\n",
    "x = result_df[['Oda Sayısı', 'Kat', 'Metrekare', 'Konum']]  # Bağımsız değişkenler\n",
    "y = result_df['Fiyat']  # Bağımlı değişken\n",
    "\n",
    "# Train-test split işlemi\n",
    "x_train, x_test, y_train, y_test = train_test_split(x, y, test_size=0.1, random_state=42)"
   ]
  },
  {
   "cell_type": "code",
   "execution_count": 11,
   "id": "95379e48",
   "metadata": {},
   "outputs": [
    {
     "name": "stdout",
     "output_type": "stream",
     "text": [
      "0.29666455976954187\n",
      " root mean squared error:  2620662.8103589993\n"
     ]
    }
   ],
   "source": [
    "# Modelleri Denemek İçin Çağılarım (LinearRegression)\n",
    "from sklearn.linear_model import LinearRegression\n",
    "from sklearn.metrics import r2_score\n",
    "import joblib\n",
    "\n",
    "# Lineer Regresyon Train\n",
    "regressor = LinearRegression()\n",
    "regressor.fit(x_train,y_train)\n",
    "# \n",
    "y_predict = regressor.predict(x_test) # üretilen modeli (lr) test vverisi ile deneyelim\n",
    "\n",
    "\n",
    "ML_RSCORE = r2_score(y_test, y_predict) \n",
    "\n",
    "print(ML_RSCORE)  #R^2 değerleri\n",
    "print(' root mean squared error: ',np.sqrt(mean_squared_error(y_test,y_predict)))"
   ]
  },
  {
   "cell_type": "code",
   "execution_count": 12,
   "id": "17aa2192",
   "metadata": {},
   "outputs": [
    {
     "name": "stdout",
     "output_type": "stream",
     "text": [
      "0.3204209949812499\n",
      " root mean squared error:  2576023.8023102265\n"
     ]
    },
    {
     "data": {
      "text/plain": [
       "['randomForest_model.pkl']"
      ]
     },
     "execution_count": 12,
     "metadata": {},
     "output_type": "execute_result"
    }
   ],
   "source": [
    "# Random Forest Regressor\n",
    "from sklearn.ensemble import RandomForestRegressor\n",
    "\n",
    "# Random Forest Regressor modelini oluşturma ve eğitme\n",
    "regressor = RandomForestRegressor(n_estimators=100, random_state=0)\n",
    "regressor.fit(x_train, y_train)\n",
    "\n",
    "# Test seti üzerinde tahmin yapma\n",
    "y_pred = regressor.predict(x_test)\n",
    "\n",
    "# R2 skorunu hesaplama\n",
    "ML_RSCORE = r2_score(y_test, y_pred)\n",
    "\n",
    "print(ML_RSCORE)\n",
    "print(' root mean squared error: ',np.sqrt(mean_squared_error(y_test,y_pred)))\n",
    "\n",
    "joblib.dump(regressor, \"randomForest_model.pkl\")"
   ]
  },
  {
   "cell_type": "code",
   "execution_count": 13,
   "id": "4bf41140",
   "metadata": {},
   "outputs": [
    {
     "name": "stdout",
     "output_type": "stream",
     "text": [
      "0.296664562363528\n",
      " root mean squared error:  2620662.8055263385\n"
     ]
    }
   ],
   "source": [
    "# Lasso Regresyon\n",
    "from sklearn.linear_model import Lasso\n",
    "\n",
    "# Lasso Regresyon modelini oluşturma ve eğitme\n",
    "lasso_regressor = Lasso(alpha=0.1, random_state=10)  # alpha değeri değiştirilebilir\n",
    "lasso_regressor.fit(x_train, y_train)\n",
    "\n",
    "# Test seti üzerinde tahmin yapma\n",
    "y_pred_lasso = lasso_regressor.predict(x_test)\n",
    "\n",
    "# R2 skorunu hesaplama\n",
    "ML_RSCORE_LASSO = r2_score(y_test, y_pred_lasso)\n",
    "\n",
    "print(ML_RSCORE_LASSO)\n",
    "print(' root mean squared error: ',np.sqrt(mean_squared_error(y_test,y_pred_lasso)))"
   ]
  },
  {
   "cell_type": "code",
   "execution_count": 14,
   "id": "17ecc757",
   "metadata": {},
   "outputs": [
    {
     "name": "stdout",
     "output_type": "stream",
     "text": [
      "0.2966812398929951\n",
      " root mean squared error:  2620631.7346902075\n"
     ]
    }
   ],
   "source": [
    "# Ridge Regresyon\n",
    "from sklearn.linear_model import Ridge\n",
    "\n",
    "# Ridge Regresyon modelini oluşturma ve eğitme\n",
    "ridge_regressor = Ridge(alpha=0.5, random_state=0)  # alpha değeri değiştirilebilir\n",
    "ridge_regressor.fit(x_train, y_train)\n",
    "\n",
    "# Test seti üzerinde tahmin yapma\n",
    "y_pred_ridge = ridge_regressor.predict(x_test)\n",
    "\n",
    "# R2 skorunu hesaplama\n",
    "ML_RSCORE_RIDGE = r2_score(y_test, y_pred_ridge)\n",
    "\n",
    "print(ML_RSCORE_RIDGE)\n",
    "print(' root mean squared error: ',np.sqrt(mean_squared_error(y_test,y_pred_ridge)))"
   ]
  },
  {
   "cell_type": "code",
   "execution_count": 15,
   "id": "bd40edcb",
   "metadata": {},
   "outputs": [
    {
     "name": "stdout",
     "output_type": "stream",
     "text": [
      "0.34608720606724874\n",
      " root mean squared error:  2526910.2216077177\n"
     ]
    }
   ],
   "source": [
    "#Polynomial Features Regressor\n",
    "from sklearn.preprocessing import PolynomialFeatures\n",
    "\n",
    "# Polinominal özelliklerin oluşturulması\n",
    "poly = PolynomialFeatures(degree=2)  # İstediğiniz derecede polinom oluşturabilirsiniz\n",
    "x_train_poly = poly.fit_transform(x_train)\n",
    "x_test_poly = poly.transform(x_test)\n",
    "\n",
    "# Polinominal regresyon modelinin eğitilmesi\n",
    "poly_regressor = LinearRegression()\n",
    "poly_regressor.fit(x_train_poly, y_train)\n",
    "\n",
    "# Test seti üzerinde tahmin yapma\n",
    "y_pred_poly = poly_regressor.predict(x_test_poly)\n",
    "\n",
    "# R2 skorunu hesaplama\n",
    "ML_RSCORE_POLY = r2_score(y_test, y_pred_poly)\n",
    "print(ML_RSCORE_POLY)\n",
    "print(' root mean squared error: ',np.sqrt(mean_squared_error(y_test,y_pred_poly)))"
   ]
  },
  {
   "cell_type": "code",
   "execution_count": 16,
   "id": "df652644",
   "metadata": {},
   "outputs": [
    {
     "name": "stdout",
     "output_type": "stream",
     "text": [
      "0.28934291208400953\n",
      " root mean squared error:  2634267.9067271897\n"
     ]
    }
   ],
   "source": [
    "#Elastic Net Regressor\n",
    "from sklearn.linear_model import ElasticNet\n",
    "\n",
    "poly = PolynomialFeatures(degree=2)\n",
    "x_train_poly = poly.fit_transform(x_train)\n",
    "x_test_poly = poly.transform(x_test)\n",
    "\n",
    "scaler = StandardScaler()\n",
    "x_train_poly_scaled = scaler.fit_transform(x_train_poly)\n",
    "x_test_poly_scaled = scaler.transform(x_test_poly)\n",
    "\n",
    "elastic_net_regressor = ElasticNet(alpha=1.0, l1_ratio=0.5, max_iter=10000, tol=0.001, random_state=0)\n",
    "elastic_net_regressor.fit(x_train_poly_scaled, y_train)\n",
    "\n",
    "y_pred_elastic_net = elastic_net_regressor.predict(x_test_poly_scaled)\n",
    "\n",
    "ML_RSCORE_ELASTICNET_POLY = r2_score(y_test, y_pred_elastic_net)\n",
    "print(ML_RSCORE_ELASTICNET_POLY)\n",
    "print(' root mean squared error: ',np.sqrt(mean_squared_error(y_test,y_pred_elastic_net)))"
   ]
  },
  {
   "cell_type": "code",
   "execution_count": 17,
   "id": "7eba2af9",
   "metadata": {},
   "outputs": [
    {
     "name": "stdout",
     "output_type": "stream",
     "text": [
      "0.5084721617902801\n",
      " root mean squared error:  2190806.1667748233\n"
     ]
    }
   ],
   "source": [
    "#Gradient Boosting Regressor \n",
    "from sklearn.ensemble import GradientBoostingRegressor\n",
    "\n",
    "# Polinom özelliklerin oluşturulması\n",
    "poly = PolynomialFeatures(degree=2)\n",
    "x_train_poly = poly.fit_transform(x_train)\n",
    "x_test_poly = poly.transform(x_test)\n",
    "\n",
    "# Verilerin ölçeklendirilmesi\n",
    "scaler = StandardScaler()\n",
    "x_train_poly_scaled = scaler.fit_transform(x_train_poly)\n",
    "x_test_poly_scaled = scaler.transform(x_test_poly)\n",
    "\n",
    "# Gradient Boosting Regresyon modelinin oluşturulması ve eğitilmesi\n",
    "gradient_boosting_regressor = GradientBoostingRegressor(n_estimators=100, random_state=0)\n",
    "gradient_boosting_regressor.fit(x_train_poly_scaled, y_train)\n",
    "\n",
    "# Test seti üzerinde tahmin yapma\n",
    "y_pred_gradient_boosting = gradient_boosting_regressor.predict(x_test_poly_scaled)\n",
    "\n",
    "# R2 skorunu hesaplama\n",
    "ML_RSCORE_GRADIENT_BOOSTING = r2_score(y_test, y_pred_gradient_boosting)\n",
    "print(ML_RSCORE_GRADIENT_BOOSTING)\n",
    "print(' root mean squared error: ',np.sqrt(mean_squared_error(y_test,y_pred_gradient_boosting)))"
   ]
  },
  {
   "cell_type": "code",
   "execution_count": 18,
   "id": "0e0f00b7",
   "metadata": {},
   "outputs": [
    {
     "name": "stdout",
     "output_type": "stream",
     "text": [
      "-0.30232928238612233\n",
      " root mean squared error:  3566073.562431286\n"
     ]
    }
   ],
   "source": [
    "from sklearn.tree import DecisionTreeRegressor\n",
    "dt = DecisionTreeRegressor(criterion='squared_error',splitter='best')\n",
    "dt.fit(x_train,y_train)\n",
    "y_predict_dt = dt.predict(x_test)\n",
    "\n",
    "ML_RSCORE_DECISION_TREE = r2_score(y_test, y_predict_dt)\n",
    "print(ML_RSCORE_DECISION_TREE)\n",
    "print(' root mean squared error: ',np.sqrt(mean_squared_error(y_test,y_predict_dt)))"
   ]
  },
  {
   "cell_type": "code",
   "execution_count": 19,
   "id": "b741b333",
   "metadata": {},
   "outputs": [
    {
     "data": {
      "text/html": [
       "<style type=\"text/css\">\n",
       "#T_cae10_row0_col0, #T_cae10_row2_col0, #T_cae10_row3_col0 {\n",
       "  background-color: #ff0505;\n",
       "  color: #f1f1f1;\n",
       "}\n",
       "#T_cae10_row0_col1, #T_cae10_row2_col1, #T_cae10_row3_col1 {\n",
       "  background-color: #f3ebeb;\n",
       "  color: #000000;\n",
       "}\n",
       "#T_cae10_row1_col0, #T_cae10_row5_col1 {\n",
       "  background-color: #f3f0f0;\n",
       "  color: #000000;\n",
       "}\n",
       "#T_cae10_row1_col1, #T_cae10_row5_col0 {\n",
       "  background-color: #ff0000;\n",
       "  color: #f1f1f1;\n",
       "}\n",
       "#T_cae10_row4_col0 {\n",
       "  background-color: #fc4242;\n",
       "  color: #f1f1f1;\n",
       "}\n",
       "#T_cae10_row4_col1 {\n",
       "  background-color: #f6a8a8;\n",
       "  color: #000000;\n",
       "}\n",
       "#T_cae10_row6_col0 {\n",
       "  background-color: #f4dfdf;\n",
       "  color: #000000;\n",
       "}\n",
       "#T_cae10_row6_col1 {\n",
       "  background-color: #fe0f0f;\n",
       "  color: #f1f1f1;\n",
       "}\n",
       "#T_cae10_row7_col0 {\n",
       "  background-color: #f88f8f;\n",
       "  color: #000000;\n",
       "}\n",
       "#T_cae10_row7_col1 {\n",
       "  background-color: #fb5858;\n",
       "  color: #f1f1f1;\n",
       "}\n",
       "</style>\n",
       "<table id=\"T_cae10_\">\n",
       "  <thead>\n",
       "    <tr>\n",
       "      <th class=\"blank level0\" >&nbsp;</th>\n",
       "      <th class=\"col_heading level0 col0\" >RMSE</th>\n",
       "      <th class=\"col_heading level0 col1\" >R2</th>\n",
       "    </tr>\n",
       "  </thead>\n",
       "  <tbody>\n",
       "    <tr>\n",
       "      <th id=\"T_cae10_level0_row0\" class=\"row_heading level0 row0\" >Linear Regression</th>\n",
       "      <td id=\"T_cae10_row0_col0\" class=\"data row0 col0\" >4212497.690000</td>\n",
       "      <td id=\"T_cae10_row0_col1\" class=\"data row0 col1\" >0.136000</td>\n",
       "    </tr>\n",
       "    <tr>\n",
       "      <th id=\"T_cae10_level0_row1\" class=\"row_heading level0 row1\" >Random Forest Regressor</th>\n",
       "      <td id=\"T_cae10_row1_col0\" class=\"data row1 col0\" >3268657.230000</td>\n",
       "      <td id=\"T_cae10_row1_col1\" class=\"data row1 col1\" >0.479000</td>\n",
       "    </tr>\n",
       "    <tr>\n",
       "      <th id=\"T_cae10_level0_row2\" class=\"row_heading level0 row2\" >Lasso</th>\n",
       "      <td id=\"T_cae10_row2_col0\" class=\"data row2 col0\" >4212497.690000</td>\n",
       "      <td id=\"T_cae10_row2_col1\" class=\"data row2 col1\" >0.136000</td>\n",
       "    </tr>\n",
       "    <tr>\n",
       "      <th id=\"T_cae10_level0_row3\" class=\"row_heading level0 row3\" >Ridge</th>\n",
       "      <td id=\"T_cae10_row3_col0\" class=\"data row3 col0\" >4212490.090000</td>\n",
       "      <td id=\"T_cae10_row3_col1\" class=\"data row3 col1\" >0.136000</td>\n",
       "    </tr>\n",
       "    <tr>\n",
       "      <th id=\"T_cae10_level0_row4\" class=\"row_heading level0 row4\" >Polynomial Features</th>\n",
       "      <td id=\"T_cae10_row4_col0\" class=\"data row4 col0\" >3967573.650000</td>\n",
       "      <td id=\"T_cae10_row4_col1\" class=\"data row4 col1\" >0.233000</td>\n",
       "    </tr>\n",
       "    <tr>\n",
       "      <th id=\"T_cae10_level0_row5\" class=\"row_heading level0 row5\" >Elastic Net</th>\n",
       "      <td id=\"T_cae10_row5_col0\" class=\"data row5 col0\" >4231376.260000</td>\n",
       "      <td id=\"T_cae10_row5_col1\" class=\"data row5 col1\" >0.128000</td>\n",
       "    </tr>\n",
       "    <tr>\n",
       "      <th id=\"T_cae10_level0_row6\" class=\"row_heading level0 row6\" >Gradient Boosting</th>\n",
       "      <td id=\"T_cae10_row6_col0\" class=\"data row6 col0\" >3337029.160000</td>\n",
       "      <td id=\"T_cae10_row6_col1\" class=\"data row6 col1\" >0.457000</td>\n",
       "    </tr>\n",
       "    <tr>\n",
       "      <th id=\"T_cae10_level0_row7\" class=\"row_heading level0 row7\" >Decision Tree</th>\n",
       "      <td id=\"T_cae10_row7_col0\" class=\"data row7 col0\" >3656493.750000</td>\n",
       "      <td id=\"T_cae10_row7_col1\" class=\"data row7 col1\" >0.349000</td>\n",
       "    </tr>\n",
       "  </tbody>\n",
       "</table>\n"
      ],
      "text/plain": [
       "<pandas.io.formats.style.Styler at 0x2671da33dc8>"
      ]
     },
     "execution_count": 19,
     "metadata": {},
     "output_type": "execute_result"
    }
   ],
   "source": [
    "final_RMSE = pd.DataFrame( data  = [[4212497.69, 3268657.23, 4212497.69,  4212490.09,   3967573.65,  4231376.26, 3337029.16, 3656493.75],\n",
    "                                    [0.136,0.479,0.136,0.136,0.233,0.128,0.457,0.349]],\n",
    "                          columns  = ['Linear Regression','Random Forest Regressor','Lasso','Ridge','Polynomial Features','Elastic Net','Gradient Boosting','Decision Tree'],\n",
    "                         index =['RMSE','R2'])\n",
    "\n",
    "\n",
    "final_RMSE = final_RMSE.T\n",
    "\n",
    "cm = sns.light_palette('red', as_cmap=True)\n",
    "\n",
    "final_RMSE = final_RMSE.style.background_gradient(cmap=cm)\n",
    "final_RMSE"
   ]
  },
  {
   "cell_type": "code",
   "execution_count": 20,
   "id": "5a3d3f11",
   "metadata": {},
   "outputs": [
    {
     "name": "stdout",
     "output_type": "stream",
     "text": [
      "Fitting 3 folds for each of 15 candidates, totalling 45 fits\n"
     ]
    },
    {
     "data": {
      "text/plain": [
       "GridSearchCV(cv=3,\n",
       "             estimator=RandomForestRegressor(bootstrap=False, random_state=42),\n",
       "             param_grid={'n_estimators': [10, 20, 50],\n",
       "                         'random_state': [0, 1, 2, 3, 4]},\n",
       "             verbose=1)"
      ]
     },
     "execution_count": 20,
     "metadata": {},
     "output_type": "execute_result"
    }
   ],
   "source": [
    "from sklearn.model_selection import GridSearchCV\n",
    "# tüm parametreler için değil sadece iki temel parametre için arama yapıyoruz!!!\n",
    "params_grid = {\n",
    "    'n_estimators':[10,20,50],\n",
    "    'random_state':list(range(0,5))}\n",
    "\n",
    "\n",
    "grid_search = GridSearchCV(RandomForestRegressor(min_samples_split=2,bootstrap=False,random_state=42), params_grid, verbose=1, cv=3)\n",
    "\n",
    "grid_search.fit(x_train, y_train)"
   ]
  },
  {
   "cell_type": "code",
   "execution_count": 43,
   "id": "d5e5df88",
   "metadata": {},
   "outputs": [
    {
     "data": {
      "text/plain": [
       "{'n_estimators': 50, 'random_state': 1}"
      ]
     },
     "execution_count": 43,
     "metadata": {},
     "output_type": "execute_result"
    }
   ],
   "source": [
    "grid_search.best_params_    # en uygun parametreleri yazdır"
   ]
  },
  {
   "cell_type": "code",
   "execution_count": 21,
   "id": "48536633",
   "metadata": {},
   "outputs": [
    {
     "name": "stdout",
     "output_type": "stream",
     "text": [
      "ML_RSCORE:  0.2830996038488832\n",
      "root mean squared error:  2645813.9693755414\n"
     ]
    }
   ],
   "source": [
    "# bulduğumuz parametrelerle test edelim   #yeni parametreler denedim fakat daha iyi sonuç vermedi ilk parametrelerle devam ettim\n",
    "from sklearn.ensemble import RandomForestRegressor\n",
    "rf = RandomForestRegressor(n_estimators=10,random_state=0)\n",
    "rf.fit(x_train,y_train)\n",
    "y_predict_rf = rf.predict(x_test)\n",
    "\n",
    "print('ML_RSCORE: ',r2_score(y_test,y_predict_rf))\n",
    "print('root mean squared error: ',np.sqrt(mean_squared_error(y_test,y_predict_rf)))"
   ]
  },
  {
   "cell_type": "code",
   "execution_count": null,
   "id": "e09a8cfd",
   "metadata": {},
   "outputs": [],
   "source": []
  }
 ],
 "metadata": {
  "kernelspec": {
   "display_name": "Python 3 (ipykernel)",
   "language": "python",
   "name": "python3"
  },
  "language_info": {
   "codemirror_mode": {
    "name": "ipython",
    "version": 3
   },
   "file_extension": ".py",
   "mimetype": "text/x-python",
   "name": "python",
   "nbconvert_exporter": "python",
   "pygments_lexer": "ipython3",
   "version": "3.7.16"
  }
 },
 "nbformat": 4,
 "nbformat_minor": 5
}
