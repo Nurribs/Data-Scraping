{
 "cells": [
  {
   "cell_type": "code",
   "execution_count": 18,
   "id": "07c74895",
   "metadata": {},
   "outputs": [],
   "source": [
    "import requests \n",
    "from bs4 import BeautifulSoup\n",
    "\n",
    "import pandas as pd\n",
    "import numpy as np\n",
    "\n",
    "#Görselleştirme\n",
    "import seaborn as sns\n",
    "import matplotlib.pyplot as plt\n",
    "%matplotlib inline\n",
    "\n",
    "#uyarıları ihmal etmek  (aktif değil incelersiniz)\n",
    "# import warnings\n",
    "# warnings.filterwarnings('ignore')\n",
    "\n",
    "\n",
    "from sklearn.preprocessing import LabelEncoder"
   ]
  },
  {
   "cell_type": "code",
   "execution_count": 19,
   "id": "5db64f74",
   "metadata": {},
   "outputs": [],
   "source": [
    "baslik_list =[]\n",
    "evTur_list=[]\n",
    "odasayi_list=[]\n",
    "kat_list=[]\n",
    "metrekare_list=[]\n",
    "fiyat_list=[]\n",
    "konum_list=[]"
   ]
  },
  {
   "cell_type": "code",
   "execution_count": 20,
   "id": "283a24d0",
   "metadata": {},
   "outputs": [],
   "source": [
    "toplamUrun=0"
   ]
  },
  {
   "cell_type": "code",
   "execution_count": 21,
   "id": "7eefd5ed",
   "metadata": {},
   "outputs": [],
   "source": [
    "base_url = \"https://www.emlakjet.com/satilik-yazlik/\"\n",
    "page_count = 2\n",
    "\n",
    "for page_number in range(1, page_count + 1):\n",
    "    url = f\"{base_url}{page_number}\"\n",
    "    r = requests.get(url)\n",
    "    \n",
    "    soup=BeautifulSoup(r.content,\"html.parser\")\n",
    "     \n",
    "    evler=soup.find_all(\"div\",attrs={\"class\":\"_3qUI9q\"})\n",
    "        \n",
    "    for ev in evler:\n",
    "        baslik=ev.find(\"div\",attrs={\"class\":\"_1TNSG2\"}).text\n",
    "        evTur=ev.find(\"div\",attrs={\"class\":\"_2UELHn\"}).find_all(\"span\")[0].text\n",
    "        odasayi=ev.find(\"div\",attrs={\"class\":\"_2UELHn\"}).find_all(\"span\")[1].text\n",
    "        kat=ev.find(\"div\",attrs={\"class\":\"_2UELHn\"}).find_all(\"span\")[2].text\n",
    "        metrekare=ev.find(\"div\",attrs={\"class\":\"_2UELHn\"}).find_all(\"span\")[3].text\n",
    "        fiyat=ev.find(\"p\",attrs={\"class\":\"_2C5UCT\"}).text\n",
    "        konum=ev.find(\"div\",attrs={\"class\":\"_2wVG12\"}).text\n",
    "\n",
    "        baslik_list.append(baslik)\n",
    "        evTur_list.append(evTur)\n",
    "        odasayi_list.append(odasayi)\n",
    "        kat_list.append(kat)\n",
    "        metrekare_list.append(metrekare)\n",
    "        fiyat_list.append(fiyat)\n",
    "        konum_list.append(konum)\n",
    " "
   ]
  },
  {
   "cell_type": "code",
   "execution_count": 22,
   "id": "438721a9",
   "metadata": {},
   "outputs": [
    {
     "data": {
      "text/plain": [
       "200"
      ]
     },
     "execution_count": 22,
     "metadata": {},
     "output_type": "execute_result"
    }
   ],
   "source": [
    "r.status_code"
   ]
  },
  {
   "cell_type": "code",
   "execution_count": 23,
   "id": "f634d99a",
   "metadata": {},
   "outputs": [],
   "source": [
    "data = {\n",
    "    'Başlık': baslik_list,\n",
    "    'Ev Türü': evTur_list,\n",
    "    'Oda Sayısı': odasayi_list,\n",
    "    'Kat': kat_list,\n",
    "    'Metrekare': metrekare_list,\n",
    "    'Fiyat': fiyat_list,\n",
    "    'Konum': konum_list\n",
    "}\n",
    "\n",
    "df = pd.DataFrame(data)\n",
    "df.to_excel('home_data.xlsx', index=False)"
   ]
  },
  {
   "cell_type": "code",
   "execution_count": 25,
   "id": "67a0b857",
   "metadata": {},
   "outputs": [
    {
     "data": {
      "text/html": [
       "<div>\n",
       "<style scoped>\n",
       "    .dataframe tbody tr th:only-of-type {\n",
       "        vertical-align: middle;\n",
       "    }\n",
       "\n",
       "    .dataframe tbody tr th {\n",
       "        vertical-align: top;\n",
       "    }\n",
       "\n",
       "    .dataframe thead th {\n",
       "        text-align: right;\n",
       "    }\n",
       "</style>\n",
       "<table border=\"1\" class=\"dataframe\">\n",
       "  <thead>\n",
       "    <tr style=\"text-align: right;\">\n",
       "      <th></th>\n",
       "      <th>Başlık</th>\n",
       "      <th>Ev Türü</th>\n",
       "      <th>Oda Sayısı</th>\n",
       "      <th>Kat</th>\n",
       "      <th>Metrekare</th>\n",
       "      <th>Fiyat</th>\n",
       "      <th>Konum</th>\n",
       "    </tr>\n",
       "  </thead>\n",
       "  <tbody>\n",
       "    <tr>\n",
       "      <th>0</th>\n",
       "      <td>Satılık fırsat yazlık uygun fiyata</td>\n",
       "      <td>homeYazlık</td>\n",
       "      <td>weekend4+1</td>\n",
       "      <td>layersBahçe katı</td>\n",
       "      <td>texture220 m2</td>\n",
       "      <td>3.750.000 TL</td>\n",
       "      <td>Van - Tuşba - Mollakasım Mh.</td>\n",
       "    </tr>\n",
       "    <tr>\n",
       "      <th>1</th>\n",
       "      <td>YÖRÜKOĞLU EMLAKTAN UYĞUN FİYATA 3+1 YAZLIK</td>\n",
       "      <td>homeYazlık</td>\n",
       "      <td>weekend3+1</td>\n",
       "      <td>layersVilla tipi</td>\n",
       "      <td>texture145 m2</td>\n",
       "      <td>4.450.000 TL</td>\n",
       "      <td>İzmir - Seferihisar - Payamlı Mh.</td>\n",
       "    </tr>\n",
       "    <tr>\n",
       "      <th>2</th>\n",
       "      <td>SATILIK DENİZE YAKIN MÜSTAKİL VİLLA</td>\n",
       "      <td>homeYazlık</td>\n",
       "      <td>weekend3+1</td>\n",
       "      <td>layersVilla tipi</td>\n",
       "      <td>texture231 m2</td>\n",
       "      <td>7.500.000 TL</td>\n",
       "      <td>Aydın - Kuşadası - Soğucak Mh.</td>\n",
       "    </tr>\n",
       "    <tr>\n",
       "      <th>3</th>\n",
       "      <td>YÖRÜKOĞLU EMLAKTAN UYĞUN FİYATA 3+1 YAZLIK</td>\n",
       "      <td>homeYazlık</td>\n",
       "      <td>weekend4+1</td>\n",
       "      <td>layersVilla tipi</td>\n",
       "      <td>texture145 m2</td>\n",
       "      <td>4.100.000 TL</td>\n",
       "      <td>İzmir - Seferihisar - Payamlı Mh.</td>\n",
       "    </tr>\n",
       "    <tr>\n",
       "      <th>4</th>\n",
       "      <td>🎯🎯  HaYaT tan AKÇAY GÜREDE SATILIK 5+1 TAMAMEN...</td>\n",
       "      <td>homeYazlık</td>\n",
       "      <td>weekend5+1</td>\n",
       "      <td>layersVilla tipi</td>\n",
       "      <td>texture200 m2</td>\n",
       "      <td>8.750.000 TL</td>\n",
       "      <td>Balıkesir - Edremit - Güre Mh.</td>\n",
       "    </tr>\n",
       "  </tbody>\n",
       "</table>\n",
       "</div>"
      ],
      "text/plain": [
       "                                              Başlık     Ev Türü  Oda Sayısı  \\\n",
       "0                Satılık fırsat yazlık uygun fiyata   homeYazlık  weekend4+1   \n",
       "1         YÖRÜKOĞLU EMLAKTAN UYĞUN FİYATA 3+1 YAZLIK  homeYazlık  weekend3+1   \n",
       "2                SATILIK DENİZE YAKIN MÜSTAKİL VİLLA  homeYazlık  weekend3+1   \n",
       "3         YÖRÜKOĞLU EMLAKTAN UYĞUN FİYATA 3+1 YAZLIK  homeYazlık  weekend4+1   \n",
       "4  🎯🎯  HaYaT tan AKÇAY GÜREDE SATILIK 5+1 TAMAMEN...  homeYazlık  weekend5+1   \n",
       "\n",
       "                Kat      Metrekare         Fiyat  \\\n",
       "0  layersBahçe katı  texture220 m2  3.750.000 TL   \n",
       "1  layersVilla tipi  texture145 m2  4.450.000 TL   \n",
       "2  layersVilla tipi  texture231 m2  7.500.000 TL   \n",
       "3  layersVilla tipi  texture145 m2  4.100.000 TL   \n",
       "4  layersVilla tipi  texture200 m2  8.750.000 TL   \n",
       "\n",
       "                               Konum  \n",
       "0       Van - Tuşba - Mollakasım Mh.  \n",
       "1  İzmir - Seferihisar - Payamlı Mh.  \n",
       "2     Aydın - Kuşadası - Soğucak Mh.  \n",
       "3  İzmir - Seferihisar - Payamlı Mh.  \n",
       "4     Balıkesir - Edremit - Güre Mh.  "
      ]
     },
     "execution_count": 25,
     "metadata": {},
     "output_type": "execute_result"
    }
   ],
   "source": [
    "df.head()   #çektiğimiz verilerin excel dosyasındaki ilk beş satırı"
   ]
  },
  {
   "cell_type": "code",
   "execution_count": 27,
   "id": "a96764ea",
   "metadata": {},
   "outputs": [
    {
     "name": "stdout",
     "output_type": "stream",
     "text": [
      "<class 'pandas.core.frame.DataFrame'>\n",
      "RangeIndex: 60 entries, 0 to 59\n",
      "Data columns (total 7 columns):\n",
      " #   Column      Non-Null Count  Dtype \n",
      "---  ------      --------------  ----- \n",
      " 0   Başlık      60 non-null     object\n",
      " 1   Ev Türü     60 non-null     object\n",
      " 2   Oda Sayısı  60 non-null     object\n",
      " 3   Kat         60 non-null     object\n",
      " 4   Metrekare   60 non-null     object\n",
      " 5   Fiyat       60 non-null     object\n",
      " 6   Konum       60 non-null     object\n",
      "dtypes: object(7)\n",
      "memory usage: 3.4+ KB\n"
     ]
    }
   ],
   "source": [
    "# Veri İle İlgili kısa bilgiler : veri türü, boş alan var yok \n",
    "df.info()"
   ]
  },
  {
   "cell_type": "code",
   "execution_count": 9,
   "id": "2a635a1f",
   "metadata": {},
   "outputs": [],
   "source": [
    "#boş alan yok"
   ]
  },
  {
   "cell_type": "code",
   "execution_count": null,
   "id": "0640d1da",
   "metadata": {},
   "outputs": [],
   "source": []
  }
 ],
 "metadata": {
  "kernelspec": {
   "display_name": "Python 3 (ipykernel)",
   "language": "python",
   "name": "python3"
  },
  "language_info": {
   "codemirror_mode": {
    "name": "ipython",
    "version": 3
   },
   "file_extension": ".py",
   "mimetype": "text/x-python",
   "name": "python",
   "nbconvert_exporter": "python",
   "pygments_lexer": "ipython3",
   "version": "3.7.16"
  }
 },
 "nbformat": 4,
 "nbformat_minor": 5
}
